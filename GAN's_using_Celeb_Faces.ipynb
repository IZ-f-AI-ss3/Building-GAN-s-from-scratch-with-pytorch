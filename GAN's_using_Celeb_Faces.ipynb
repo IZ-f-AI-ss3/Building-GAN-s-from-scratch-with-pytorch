{
  "nbformat": 4,
  "nbformat_minor": 0,
  "metadata": {
    "colab": {
      "provenance": []
    },
    "kernelspec": {
      "name": "python3",
      "display_name": "Python 3"
    },
    "language_info": {
      "name": "python"
    }
  },
  "cells": [
    {
      "cell_type": "code",
      "source": [
        "# !pip install kaggle\n",
        "# !pip install pytorch-lightning"
      ],
      "metadata": {
        "id": "sIo30tEsKgoC"
      },
      "execution_count": null,
      "outputs": []
    },
    {
      "cell_type": "code",
      "source": [
        "from google.colab import files\n",
        "files.upload()"
      ],
      "metadata": {
        "colab": {
          "base_uri": "https://localhost:8080/",
          "height": 92
        },
        "id": "8iQBFzCRKipC",
        "outputId": "faa3bbe6-ef20-454d-f104-679aafee3d7a"
      },
      "execution_count": null,
      "outputs": [
        {
          "output_type": "display_data",
          "data": {
            "text/plain": [
              "<IPython.core.display.HTML object>"
            ],
            "text/html": [
              "\n",
              "     <input type=\"file\" id=\"files-e25e19be-f38e-423e-a1c8-31c44460ece3\" name=\"files[]\" multiple disabled\n",
              "        style=\"border:none\" />\n",
              "     <output id=\"result-e25e19be-f38e-423e-a1c8-31c44460ece3\">\n",
              "      Upload widget is only available when the cell has been executed in the\n",
              "      current browser session. Please rerun this cell to enable.\n",
              "      </output>\n",
              "      <script>// Copyright 2017 Google LLC\n",
              "//\n",
              "// Licensed under the Apache License, Version 2.0 (the \"License\");\n",
              "// you may not use this file except in compliance with the License.\n",
              "// You may obtain a copy of the License at\n",
              "//\n",
              "//      http://www.apache.org/licenses/LICENSE-2.0\n",
              "//\n",
              "// Unless required by applicable law or agreed to in writing, software\n",
              "// distributed under the License is distributed on an \"AS IS\" BASIS,\n",
              "// WITHOUT WARRANTIES OR CONDITIONS OF ANY KIND, either express or implied.\n",
              "// See the License for the specific language governing permissions and\n",
              "// limitations under the License.\n",
              "\n",
              "/**\n",
              " * @fileoverview Helpers for google.colab Python module.\n",
              " */\n",
              "(function(scope) {\n",
              "function span(text, styleAttributes = {}) {\n",
              "  const element = document.createElement('span');\n",
              "  element.textContent = text;\n",
              "  for (const key of Object.keys(styleAttributes)) {\n",
              "    element.style[key] = styleAttributes[key];\n",
              "  }\n",
              "  return element;\n",
              "}\n",
              "\n",
              "// Max number of bytes which will be uploaded at a time.\n",
              "const MAX_PAYLOAD_SIZE = 100 * 1024;\n",
              "\n",
              "function _uploadFiles(inputId, outputId) {\n",
              "  const steps = uploadFilesStep(inputId, outputId);\n",
              "  const outputElement = document.getElementById(outputId);\n",
              "  // Cache steps on the outputElement to make it available for the next call\n",
              "  // to uploadFilesContinue from Python.\n",
              "  outputElement.steps = steps;\n",
              "\n",
              "  return _uploadFilesContinue(outputId);\n",
              "}\n",
              "\n",
              "// This is roughly an async generator (not supported in the browser yet),\n",
              "// where there are multiple asynchronous steps and the Python side is going\n",
              "// to poll for completion of each step.\n",
              "// This uses a Promise to block the python side on completion of each step,\n",
              "// then passes the result of the previous step as the input to the next step.\n",
              "function _uploadFilesContinue(outputId) {\n",
              "  const outputElement = document.getElementById(outputId);\n",
              "  const steps = outputElement.steps;\n",
              "\n",
              "  const next = steps.next(outputElement.lastPromiseValue);\n",
              "  return Promise.resolve(next.value.promise).then((value) => {\n",
              "    // Cache the last promise value to make it available to the next\n",
              "    // step of the generator.\n",
              "    outputElement.lastPromiseValue = value;\n",
              "    return next.value.response;\n",
              "  });\n",
              "}\n",
              "\n",
              "/**\n",
              " * Generator function which is called between each async step of the upload\n",
              " * process.\n",
              " * @param {string} inputId Element ID of the input file picker element.\n",
              " * @param {string} outputId Element ID of the output display.\n",
              " * @return {!Iterable<!Object>} Iterable of next steps.\n",
              " */\n",
              "function* uploadFilesStep(inputId, outputId) {\n",
              "  const inputElement = document.getElementById(inputId);\n",
              "  inputElement.disabled = false;\n",
              "\n",
              "  const outputElement = document.getElementById(outputId);\n",
              "  outputElement.innerHTML = '';\n",
              "\n",
              "  const pickedPromise = new Promise((resolve) => {\n",
              "    inputElement.addEventListener('change', (e) => {\n",
              "      resolve(e.target.files);\n",
              "    });\n",
              "  });\n",
              "\n",
              "  const cancel = document.createElement('button');\n",
              "  inputElement.parentElement.appendChild(cancel);\n",
              "  cancel.textContent = 'Cancel upload';\n",
              "  const cancelPromise = new Promise((resolve) => {\n",
              "    cancel.onclick = () => {\n",
              "      resolve(null);\n",
              "    };\n",
              "  });\n",
              "\n",
              "  // Wait for the user to pick the files.\n",
              "  const files = yield {\n",
              "    promise: Promise.race([pickedPromise, cancelPromise]),\n",
              "    response: {\n",
              "      action: 'starting',\n",
              "    }\n",
              "  };\n",
              "\n",
              "  cancel.remove();\n",
              "\n",
              "  // Disable the input element since further picks are not allowed.\n",
              "  inputElement.disabled = true;\n",
              "\n",
              "  if (!files) {\n",
              "    return {\n",
              "      response: {\n",
              "        action: 'complete',\n",
              "      }\n",
              "    };\n",
              "  }\n",
              "\n",
              "  for (const file of files) {\n",
              "    const li = document.createElement('li');\n",
              "    li.append(span(file.name, {fontWeight: 'bold'}));\n",
              "    li.append(span(\n",
              "        `(${file.type || 'n/a'}) - ${file.size} bytes, ` +\n",
              "        `last modified: ${\n",
              "            file.lastModifiedDate ? file.lastModifiedDate.toLocaleDateString() :\n",
              "                                    'n/a'} - `));\n",
              "    const percent = span('0% done');\n",
              "    li.appendChild(percent);\n",
              "\n",
              "    outputElement.appendChild(li);\n",
              "\n",
              "    const fileDataPromise = new Promise((resolve) => {\n",
              "      const reader = new FileReader();\n",
              "      reader.onload = (e) => {\n",
              "        resolve(e.target.result);\n",
              "      };\n",
              "      reader.readAsArrayBuffer(file);\n",
              "    });\n",
              "    // Wait for the data to be ready.\n",
              "    let fileData = yield {\n",
              "      promise: fileDataPromise,\n",
              "      response: {\n",
              "        action: 'continue',\n",
              "      }\n",
              "    };\n",
              "\n",
              "    // Use a chunked sending to avoid message size limits. See b/62115660.\n",
              "    let position = 0;\n",
              "    do {\n",
              "      const length = Math.min(fileData.byteLength - position, MAX_PAYLOAD_SIZE);\n",
              "      const chunk = new Uint8Array(fileData, position, length);\n",
              "      position += length;\n",
              "\n",
              "      const base64 = btoa(String.fromCharCode.apply(null, chunk));\n",
              "      yield {\n",
              "        response: {\n",
              "          action: 'append',\n",
              "          file: file.name,\n",
              "          data: base64,\n",
              "        },\n",
              "      };\n",
              "\n",
              "      let percentDone = fileData.byteLength === 0 ?\n",
              "          100 :\n",
              "          Math.round((position / fileData.byteLength) * 100);\n",
              "      percent.textContent = `${percentDone}% done`;\n",
              "\n",
              "    } while (position < fileData.byteLength);\n",
              "  }\n",
              "\n",
              "  // All done.\n",
              "  yield {\n",
              "    response: {\n",
              "      action: 'complete',\n",
              "    }\n",
              "  };\n",
              "}\n",
              "\n",
              "scope.google = scope.google || {};\n",
              "scope.google.colab = scope.google.colab || {};\n",
              "scope.google.colab._files = {\n",
              "  _uploadFiles,\n",
              "  _uploadFilesContinue,\n",
              "};\n",
              "})(self);\n",
              "</script> "
            ]
          },
          "metadata": {}
        },
        {
          "output_type": "stream",
          "name": "stdout",
          "text": [
            "Saving kaggle.json to kaggle (1).json\n"
          ]
        },
        {
          "output_type": "execute_result",
          "data": {
            "text/plain": [
              "{'kaggle (1).json': b'{\"username\":\"faissalizii\",\"key\":\"31236fe96879a3632e37092b52fae4e9\"}'}"
            ]
          },
          "metadata": {},
          "execution_count": 2
        }
      ]
    },
    {
      "cell_type": "code",
      "source": [
        "!mkdir ~/.kaggle\n",
        "!cp kaggle.json ~/.kaggle/\n",
        "!chmod 600 ~/.kaggle/kaggle.json"
      ],
      "metadata": {
        "id": "Vt-x0fitLUEU"
      },
      "execution_count": null,
      "outputs": []
    },
    {
      "cell_type": "code",
      "source": [
        "!kaggle datasets download -d jessicali9530/celeba-dataset"
      ],
      "metadata": {
        "colab": {
          "base_uri": "https://localhost:8080/"
        },
        "id": "GPybySXEKmRc",
        "outputId": "26ba3154-33bc-4532-e211-76d1465ff592"
      },
      "execution_count": null,
      "outputs": [
        {
          "output_type": "stream",
          "name": "stdout",
          "text": [
            "Downloading celeba-dataset.zip to /content\n",
            " 99% 1.32G/1.33G [00:16<00:00, 121MB/s]\n",
            "100% 1.33G/1.33G [00:16<00:00, 86.5MB/s]\n"
          ]
        }
      ]
    },
    {
      "cell_type": "code",
      "source": [
        "import os\n",
        "from PIL import Image\n",
        "import zipfile\n",
        "import numpy as np\n",
        "from tqdm import tqdm\n",
        "\n",
        "# Path to the zip file containing the CelebA dataset\n",
        "zip_file_path = \"/content/celeba-dataset.zip\"\n",
        "\n",
        "# Function to resize images\n",
        "def resize_images(zip_file_path, target_size=(64, 64), limit=20000):\n",
        "    X_train = []\n",
        "    image_count = 0\n",
        "    with zipfile.ZipFile(zip_file_path, 'r') as zip_ref:\n",
        "        for filename in tqdm(zip_ref.namelist()):\n",
        "            if image_count >= limit:\n",
        "                break\n",
        "            with zip_ref.open(filename) as file:\n",
        "                # Open the image\n",
        "                with Image.open(file) as img:\n",
        "                    # Resize the image\n",
        "                    resized_img = img.resize(target_size)\n",
        "                    # Convert image to numpy array and append to X_train\n",
        "                    X_train.append(np.array(resized_img))\n",
        "                    image_count += 1\n",
        "    return X_train\n",
        "\n",
        "# Resize images and store them in X_train\n",
        "X_train = resize_images(zip_file_path)\n",
        "\n",
        "print(\"Number of resized images:\", len(X_train))"
      ],
      "metadata": {
        "colab": {
          "base_uri": "https://localhost:8080/",
          "height": 370
        },
        "id": "Fkq3gBWMSwxe",
        "outputId": "dc8b7f36-c799-42b8-8e77-3846f16bc0a3"
      },
      "execution_count": null,
      "outputs": [
        {
          "output_type": "error",
          "ename": "FileNotFoundError",
          "evalue": "[Errno 2] No such file or directory: '/content/celeba-dataset.zip'",
          "traceback": [
            "\u001b[0;31m---------------------------------------------------------------------------\u001b[0m",
            "\u001b[0;31mFileNotFoundError\u001b[0m                         Traceback (most recent call last)",
            "\u001b[0;32m<ipython-input-5-c4890371f8ef>\u001b[0m in \u001b[0;36m<cell line: 29>\u001b[0;34m()\u001b[0m\n\u001b[1;32m     27\u001b[0m \u001b[0;34m\u001b[0m\u001b[0m\n\u001b[1;32m     28\u001b[0m \u001b[0;31m# Resize images and store them in X_train\u001b[0m\u001b[0;34m\u001b[0m\u001b[0;34m\u001b[0m\u001b[0m\n\u001b[0;32m---> 29\u001b[0;31m \u001b[0mX_train\u001b[0m \u001b[0;34m=\u001b[0m \u001b[0mresize_images\u001b[0m\u001b[0;34m(\u001b[0m\u001b[0mzip_file_path\u001b[0m\u001b[0;34m)\u001b[0m\u001b[0;34m\u001b[0m\u001b[0;34m\u001b[0m\u001b[0m\n\u001b[0m\u001b[1;32m     30\u001b[0m \u001b[0;34m\u001b[0m\u001b[0m\n\u001b[1;32m     31\u001b[0m \u001b[0mprint\u001b[0m\u001b[0;34m(\u001b[0m\u001b[0;34m\"Number of resized images:\"\u001b[0m\u001b[0;34m,\u001b[0m \u001b[0mlen\u001b[0m\u001b[0;34m(\u001b[0m\u001b[0mX_train\u001b[0m\u001b[0;34m)\u001b[0m\u001b[0;34m)\u001b[0m\u001b[0;34m\u001b[0m\u001b[0;34m\u001b[0m\u001b[0m\n",
            "\u001b[0;32m<ipython-input-5-c4890371f8ef>\u001b[0m in \u001b[0;36mresize_images\u001b[0;34m(zip_file_path, target_size, limit)\u001b[0m\n\u001b[1;32m     12\u001b[0m     \u001b[0mX_train\u001b[0m \u001b[0;34m=\u001b[0m \u001b[0;34m[\u001b[0m\u001b[0;34m]\u001b[0m\u001b[0;34m\u001b[0m\u001b[0;34m\u001b[0m\u001b[0m\n\u001b[1;32m     13\u001b[0m     \u001b[0mimage_count\u001b[0m \u001b[0;34m=\u001b[0m \u001b[0;36m0\u001b[0m\u001b[0;34m\u001b[0m\u001b[0;34m\u001b[0m\u001b[0m\n\u001b[0;32m---> 14\u001b[0;31m     \u001b[0;32mwith\u001b[0m \u001b[0mzipfile\u001b[0m\u001b[0;34m.\u001b[0m\u001b[0mZipFile\u001b[0m\u001b[0;34m(\u001b[0m\u001b[0mzip_file_path\u001b[0m\u001b[0;34m,\u001b[0m \u001b[0;34m'r'\u001b[0m\u001b[0;34m)\u001b[0m \u001b[0;32mas\u001b[0m \u001b[0mzip_ref\u001b[0m\u001b[0;34m:\u001b[0m\u001b[0;34m\u001b[0m\u001b[0;34m\u001b[0m\u001b[0m\n\u001b[0m\u001b[1;32m     15\u001b[0m         \u001b[0;32mfor\u001b[0m \u001b[0mfilename\u001b[0m \u001b[0;32min\u001b[0m \u001b[0mtqdm\u001b[0m\u001b[0;34m(\u001b[0m\u001b[0mzip_ref\u001b[0m\u001b[0;34m.\u001b[0m\u001b[0mnamelist\u001b[0m\u001b[0;34m(\u001b[0m\u001b[0;34m)\u001b[0m\u001b[0;34m)\u001b[0m\u001b[0;34m:\u001b[0m\u001b[0;34m\u001b[0m\u001b[0;34m\u001b[0m\u001b[0m\n\u001b[1;32m     16\u001b[0m             \u001b[0;32mif\u001b[0m \u001b[0mimage_count\u001b[0m \u001b[0;34m>=\u001b[0m \u001b[0mlimit\u001b[0m\u001b[0;34m:\u001b[0m\u001b[0;34m\u001b[0m\u001b[0;34m\u001b[0m\u001b[0m\n",
            "\u001b[0;32m/usr/lib/python3.10/zipfile.py\u001b[0m in \u001b[0;36m__init__\u001b[0;34m(self, file, mode, compression, allowZip64, compresslevel, strict_timestamps)\u001b[0m\n\u001b[1;32m   1249\u001b[0m             \u001b[0;32mwhile\u001b[0m \u001b[0;32mTrue\u001b[0m\u001b[0;34m:\u001b[0m\u001b[0;34m\u001b[0m\u001b[0;34m\u001b[0m\u001b[0m\n\u001b[1;32m   1250\u001b[0m                 \u001b[0;32mtry\u001b[0m\u001b[0;34m:\u001b[0m\u001b[0;34m\u001b[0m\u001b[0;34m\u001b[0m\u001b[0m\n\u001b[0;32m-> 1251\u001b[0;31m                     \u001b[0mself\u001b[0m\u001b[0;34m.\u001b[0m\u001b[0mfp\u001b[0m \u001b[0;34m=\u001b[0m \u001b[0mio\u001b[0m\u001b[0;34m.\u001b[0m\u001b[0mopen\u001b[0m\u001b[0;34m(\u001b[0m\u001b[0mfile\u001b[0m\u001b[0;34m,\u001b[0m \u001b[0mfilemode\u001b[0m\u001b[0;34m)\u001b[0m\u001b[0;34m\u001b[0m\u001b[0;34m\u001b[0m\u001b[0m\n\u001b[0m\u001b[1;32m   1252\u001b[0m                 \u001b[0;32mexcept\u001b[0m \u001b[0mOSError\u001b[0m\u001b[0;34m:\u001b[0m\u001b[0;34m\u001b[0m\u001b[0;34m\u001b[0m\u001b[0m\n\u001b[1;32m   1253\u001b[0m                     \u001b[0;32mif\u001b[0m \u001b[0mfilemode\u001b[0m \u001b[0;32min\u001b[0m \u001b[0mmodeDict\u001b[0m\u001b[0;34m:\u001b[0m\u001b[0;34m\u001b[0m\u001b[0;34m\u001b[0m\u001b[0m\n",
            "\u001b[0;31mFileNotFoundError\u001b[0m: [Errno 2] No such file or directory: '/content/celeba-dataset.zip'"
          ]
        }
      ]
    },
    {
      "cell_type": "code",
      "source": [
        "X_train=np.array(X_train)/ 255.0 # images between -1 and 1"
      ],
      "metadata": {
        "id": "0cSi79aQcrJD"
      },
      "execution_count": null,
      "outputs": []
    },
    {
      "cell_type": "code",
      "source": [
        "print(np.shape(X_train))"
      ],
      "metadata": {
        "id": "qNRbuyVbTVwX"
      },
      "execution_count": null,
      "outputs": []
    },
    {
      "cell_type": "code",
      "source": [
        "import os\n",
        "import torch\n",
        "import torchvision\n",
        "import torch.nn as nn\n",
        "import torch.optim as optim\n",
        "import torch.nn.functional as F\n",
        "import torchvision.datasets as datasets\n",
        "import torchvision.transforms as transforms\n",
        "from torch.utils.data import DataLoader, random_split\n",
        "\n",
        "import matplotlib.pyplot as plt\n",
        "import numpy as np\n",
        "\n",
        "\n",
        "BATCH_SIZE=100\n",
        "\n",
        "USE_GPU = True\n",
        "dtype = torch.float32 # we will be using float throughout this tutorial\n",
        "device = torch.device('cuda') if (USE_GPU and torch.cuda.is_available()) else torch.device('cpu')\n",
        "\n",
        "# Constant to control how frequently we print train loss\n",
        "print_every = 100\n",
        "print('using device:', device)"
      ],
      "metadata": {
        "colab": {
          "base_uri": "https://localhost:8080/"
        },
        "id": "CgYaspW2JPdD",
        "outputId": "6adf4677-bdcf-4f81-d38b-a55832f402e8"
      },
      "execution_count": null,
      "outputs": [
        {
          "output_type": "stream",
          "name": "stdout",
          "text": [
            "using device: cpu\n"
          ]
        }
      ]
    },
    {
      "cell_type": "code",
      "source": [
        "from torch.utils.data import TensorDataset, DataLoader\n",
        "\n",
        "# Assuming X_train is your numpy array with shape (N, 64,64,3)\n",
        "# Compute the overall mean and standard deviation across all images and channels\n",
        "mean = np.mean(X_train, axis=(0, 1,2))\n",
        "std = np.std(X_train, axis=(0, 1, 2))\n",
        "print(\"Mean for each channel:\", mean)\n",
        "print(\"Standard deviation for each channel:\", std)\n",
        "\n",
        "\n",
        "\n",
        "X_train_normalized = transforms.Normalize(mean, std)(torch.from_numpy(X_train).permute(0, 3, 1, 2)) # (N,3,64,64)\n",
        "# Convert numpy array to PyTorch TensorDataset\n",
        "dataset = TensorDataset(X_train_normalized)\n",
        "loader_train = DataLoader(dataset, batch_size=BATCH_SIZE, shuffle= True )"
      ],
      "metadata": {
        "colab": {
          "base_uri": "https://localhost:8080/"
        },
        "id": "eGr1fAzwblkE",
        "outputId": "ccd4ad80-133f-40ff-cac4-60fbca852a64"
      },
      "execution_count": null,
      "outputs": [
        {
          "output_type": "stream",
          "name": "stdout",
          "text": [
            "Mean for each channel: [0.50641318 0.42588447 0.38312325]\n",
            "Standard deviation for each channel: [0.30727777 0.28683807 0.28646142]\n"
          ]
        }
      ]
    },
    {
      "cell_type": "code",
      "source": [
        "import torch.nn.utils.spectral_norm as spectral_norm\n",
        "#the First neural network : the Discriminator : the output should be in [0,1] ---> Fake or not Fake\n",
        "# class Discriminator(nn.Module):\n",
        "#       def __init__(self):\n",
        "#           super(Discriminator, self).__init__()\n",
        "\n",
        "#           # Convolutional layers\n",
        "#           self.conv1 = nn.Conv2d(3, 32, kernel_size=3, padding=1)\n",
        "#           self.conv2 = nn.Conv2d(32, 64, kernel_size=3, padding=1)\n",
        "#           self.conv3 = nn.Conv2d(64, 128, kernel_size=3, padding=1)\n",
        "#           #Drop_out\n",
        "#           self.conv2_drop =nn.Dropout2d()\n",
        "#           self.conv3_drop =nn.Dropout2d()\n",
        "\n",
        "#           # Fully connected layer\n",
        "#           self.fc1 = nn.Linear(128, 32)  #spectral_norm\n",
        "#           self.fc2 = nn.Linear(32, 1)    #spectral_norm\n",
        "\n",
        "\n",
        "\n",
        "\n",
        "#       def forward(self , x) :  #N*C*W*H\n",
        "#           x = F.relu(F.max_pool2d(self.conv1(x), 2))\n",
        "#           x = F.relu(F.avg_pool2d(self.conv2_drop(self.conv2(x)), 2))\n",
        "#           x = F.relu(F.max_pool2d(self.conv3_drop(self.conv3(x)), 2))\n",
        "\n",
        "#           # Flatten the tensor so it can be fed into the FC layers\n",
        "#           N=x.size(0)\n",
        "#           x=x.view(N,-1) #flattening\n",
        "#           x = F.relu(self.fc1(x))\n",
        "#           x=F.dropout1d(x,training=self.training)\n",
        "#           x=F.sigmoid(self.fc2(x)) #probability --> [0,1]\n",
        "#           return x\n",
        "\n",
        "\n",
        "#the First neural network : the Discriminator : the output should be in [0,1] ---> Fake or not Fake\n",
        "class Discriminator(nn.Module):\n",
        "    def __init__(self):\n",
        "        super(Discriminator, self).__init__()\n",
        "        self.conv1 = nn.Conv2d(3, 256, kernel_size=3, stride=2, padding=1)\n",
        "        self.leaky_relu1 = nn.LeakyReLU()\n",
        "        self.conv2 = nn.Conv2d(256, 128, kernel_size=3, stride=2, padding=1)\n",
        "        self.leaky_relu2 = nn.LeakyReLU()\n",
        "        # self.batch_norm1 = nn.BatchNorm2d(128)\n",
        "        self.conv3 = nn.Conv2d(128, 64, kernel_size=3, stride=2, padding=1)\n",
        "        self.leaky_relu3 = nn.LeakyReLU()\n",
        "        # self.batch_norm2 = nn.BatchNorm2d(64)\n",
        "        self.flatten = nn.Flatten()\n",
        "        self.fc = nn.Linear(64 * 8 * 8, 1)\n",
        "\n",
        "    def forward(self, x):\n",
        "        x = self.conv1(x)\n",
        "        x = self.leaky_relu1(x)\n",
        "        x = self.conv2(x)\n",
        "        x = self.leaky_relu2(x)\n",
        "        # x = self.batch_norm1(x)\n",
        "        x = self.conv3(x)\n",
        "        x = self.leaky_relu3(x)\n",
        "        # x = self.batch_norm2(x)\n",
        "        x = self.flatten(x)\n",
        "        x = F.sigmoid(self.fc(x)) #probability --> [0,1]\n",
        "        return x\n"
      ],
      "metadata": {
        "id": "r47zbw31ULsc"
      },
      "execution_count": null,
      "outputs": []
    },
    {
      "cell_type": "code",
      "source": [
        "# The second neural network : the Generator ; the output should be an image with the shape of input data (3,64,64) and values -1,1 (because we already normalized)\n",
        "\n",
        "# class Generator (nn.Module ):  #\"class that inherents from nn.module\"\n",
        "#     def __init__(self, latent_dim = 120) :\n",
        "#         super(Generator , self).__init__()\n",
        "#         self.fc = nn.Linear(latent_dim, 192*16*16)  # [N, 192, 16 , 16]\n",
        "#         self.ct1 = nn.ConvTranspose2d(192, 128, 2, stride=2)\n",
        "#         self.ct2 = nn.ConvTranspose2d(128, 64, 3, stride=2)\n",
        "#         self.conv1 = nn.Conv2d(16, 8, kernel_size=7, stride=1)\n",
        "#         self.conv2 = nn.Conv2d(8, 3, kernel_size=7, stride=1)  # [N, 3, 64, 64]\n",
        "\n",
        "#     def forward(self , x ):\n",
        "#         x=F.relu(self.fc(x))\n",
        "#         x= x.view((-1,192,16,16)) #-1 for N\n",
        "\n",
        "#         # Upsample (transposed conv)\n",
        "#         x=F.relu(self.ct1(x))\n",
        "#         x=F.relu(self.ct2(x))\n",
        "\n",
        "\n",
        "#         # to [N,3,64,64]  #No need for invariance\n",
        "#         x= self.conv1(x)\n",
        "#         x=self.conv2(x)\n",
        "#         return x\n",
        "\n",
        "# The second neural network : the Generator ; the output should be an image with the shape of input data (3,64,64) and values -1,1 (because we already normalized)\n",
        "\n",
        "class Generator(nn.Module):\n",
        "    def __init__(self, latent_dim = 128):\n",
        "        super(Generator, self).__init__()\n",
        "        self.fc = nn.Linear( latent_dim , 8 * 8 * 128)\n",
        "        # self.batch_norm1 = nn.BatchNorm2d(8 * 8 * 128)\n",
        "        self.conv1 = nn.ConvTranspose2d(128, 256, kernel_size=3, stride=2, padding=1, output_padding=1)\n",
        "        self.leaky_relu1 = nn.LeakyReLU()\n",
        "        # self.batch_norm2 = nn.BatchNorm2d(256)\n",
        "        self.conv2 = nn.ConvTranspose2d(256, 128, kernel_size=3, stride=2, padding=1, output_padding=1)\n",
        "        self.leaky_relu2 = nn.LeakyReLU()\n",
        "        # self.batch_norm3 = nn.BatchNorm2d(128)\n",
        "        self.conv3 = nn.ConvTranspose2d(128, 3, kernel_size=3, stride=2, padding=1, output_padding=1)\n",
        "        self.sigmoid = nn.Sigmoid()\n",
        "\n",
        "    def forward(self, x):\n",
        "        x = self.fc(x)\n",
        "        x = x.view(-1, 128, 8, 8) #self.batch_norm1(\n",
        "        x = self.conv1(x)\n",
        "        x = self.leaky_relu1(x)\n",
        "        # x = self.batch_norm2(x)\n",
        "        x = self.conv2(x)\n",
        "        x = self.leaky_relu2(x)\n",
        "        # x = self.batch_norm3(x)\n",
        "        x = self.conv3(x)\n",
        "        return x\n",
        "\n"
      ],
      "metadata": {
        "id": "45HXWbCPNTJY"
      },
      "execution_count": null,
      "outputs": []
    },
    {
      "cell_type": "code",
      "source": [
        "#My Part : GAN\n",
        "class GAN(nn.Module) :\n",
        "      def __init__(self, latent_dim =128, lr = 0.0001) :\n",
        "        super(GAN, self).__init__()\n",
        "        self.lr = lr\n",
        "        self.latent_dim = latent_dim\n",
        "        #Creating the networks\n",
        "        self.generator=Generator(latent_dim = self.latent_dim)\n",
        "        self.discriminator =Discriminator()\n",
        "        #Random noise to test the image laters\n",
        "        self.validation_z = torch.randn(20,self.latent_dim, device=device, dtype=dtype)\n",
        "\n",
        "      def forward(self , z) :\n",
        "          return self.generator(z)\n",
        "\n",
        "      def plot_images(self):\n",
        "          z = self.validation_z  # Ensuring that the noise vectors have the same data type as the model parameters ==> compatibility & numerical stability\n",
        "          sample_imgs = self.forward(z).cpu()  # Will generate some images\n",
        "          fig = plt.figure(figsize=(10, 10))  # Adjust the figure size as needed\n",
        "          for i in range(20):  # Plotting 20 images\n",
        "              plt.subplot(4, 5, i + 1)\n",
        "              plt.tight_layout()\n",
        "              plt.imshow(sample_imgs.detach()[i, 0, :, :])\n",
        "              plt.title(\"Generated Data\")\n",
        "              plt.xticks([])\n",
        "              plt.yticks([])\n",
        "              plt.axis('off')\n",
        "          plt.show()\n",
        "\n",
        "\n"
      ],
      "metadata": {
        "id": "9zY5my5tPCF6"
      },
      "execution_count": null,
      "outputs": []
    },
    {
      "cell_type": "code",
      "source": [
        "def train_module(model, g_opt, d_opt, epochs=1):\n",
        "    model = model.to(device=device,dtype=dtype)  # move the model parameters to CPU/GPU\n",
        "    for e in range(epochs):\n",
        "        # Shuffle the dataset for each epoch\n",
        "        for t, real_imgs in enumerate(loader_train):\n",
        "              model.train()  # put model to training mode\n",
        "              real_imgs = real_imgs.to(device=device, dtype=dtype)  # move to device, e.g. GPU\n",
        "\n",
        "              #sample noise\n",
        "              z = torch.randn(real_imgs.size(0) , model.latent_dim,device=device, dtype=dtype)\n",
        "              # training the generator : max log(D(G(z))) z is noise # by maximizing we want the discriminator to return 1 (because they are all fake)\n",
        "              #Call  the generator\n",
        "              fake_imgs = model.forward(z)\n",
        "              y_hat = model.discriminator(fake_imgs)\n",
        "              y=torch.ones(fake_imgs.size(0),1,device=device, dtype=dtype)  #real labels (they are all fake) ==> outsmarting\n",
        "              #loss\n",
        "              g_loss= F.binary_cross_entropy(y_hat , y)\n",
        "              #Manually\n",
        "              g_opt.zero_grad()\n",
        "              g_loss.backward()\n",
        "              g_opt.step()\n",
        "\n",
        "              #training the discriminator max log(D(x))+log(1-D(G(z)))\n",
        "              #How well can it label as real, and also how can it lable the generated as fake.\n",
        "              fake_imgs= model.forward(z).detach() #because we already calculated them, to avoid the computation graph\n",
        "              # How well it can  label as real :\n",
        "              y_hat_real = model.discriminator(real_imgs)\n",
        "              y_real=torch.ones(real_imgs.size(0) , 1, device=device, dtype=dtype)  #real labels (they are all real)\n",
        "              y_real=y_real.type_as(real_imgs)\n",
        "              real_loss =F.binary_cross_entropy(y_hat_real , y_real)\n",
        "              #How well it can label as fake :\n",
        "              y_hat_fake = model.discriminator(fake_imgs)\n",
        "              y_fake=torch.ones(real_imgs.size(0) ,1,device=device, dtype=dtype)  #real labels (they are all fake \"0\" with (1-D(G(z)) we put \"1\" )\n",
        "\n",
        "              fake_loss =F.binary_cross_entropy(y_hat_fake, y_fake)\n",
        "              #Global loss :\n",
        "              d_loss = (real_loss+fake_loss)/2\n",
        "              #Manually\n",
        "              d_opt.zero_grad()\n",
        "              d_loss.backward()\n",
        "              d_opt.step()\n",
        "\n",
        "\n",
        "              if t % print_every == 0:\n",
        "                  print('Iteration %d, loss = %.4f' % (t, loss.item()))\n",
        "        print('epoch', e)\n",
        "        model.plot_images()\n",
        "\n",
        "\n",
        "\n"
      ],
      "metadata": {
        "id": "50wnwJDadZ1F"
      },
      "execution_count": null,
      "outputs": []
    },
    {
      "cell_type": "code",
      "source": [
        "model = GAN()\n",
        "model.plot_images()"
      ],
      "metadata": {
        "colab": {
          "base_uri": "https://localhost:8080/",
          "height": 291
        },
        "id": "XCEQ8DuThzfZ",
        "outputId": "4164d9f4-8222-4bfd-c6a3-34c81b0105e5"
      },
      "execution_count": null,
      "outputs": [
        {
          "output_type": "error",
          "ename": "NameError",
          "evalue": "name 'dtype' is not defined",
          "traceback": [
            "\u001b[0;31m---------------------------------------------------------------------------\u001b[0m",
            "\u001b[0;31mNameError\u001b[0m                                 Traceback (most recent call last)",
            "\u001b[0;32m<ipython-input-15-762ef8fdc3e0>\u001b[0m in \u001b[0;36m<cell line: 1>\u001b[0;34m()\u001b[0m\n\u001b[0;32m----> 1\u001b[0;31m \u001b[0mmodel\u001b[0m \u001b[0;34m=\u001b[0m \u001b[0mGAN\u001b[0m\u001b[0;34m(\u001b[0m\u001b[0;34m)\u001b[0m\u001b[0;34m\u001b[0m\u001b[0;34m\u001b[0m\u001b[0m\n\u001b[0m\u001b[1;32m      2\u001b[0m \u001b[0mmodel\u001b[0m\u001b[0;34m.\u001b[0m\u001b[0mplot_images\u001b[0m\u001b[0;34m(\u001b[0m\u001b[0;34m)\u001b[0m\u001b[0;34m\u001b[0m\u001b[0;34m\u001b[0m\u001b[0m\n",
            "\u001b[0;32m<ipython-input-13-2af8df94ece6>\u001b[0m in \u001b[0;36m__init__\u001b[0;34m(self, latent_dim, lr)\u001b[0m\n\u001b[1;32m      9\u001b[0m         \u001b[0mself\u001b[0m\u001b[0;34m.\u001b[0m\u001b[0mdiscriminator\u001b[0m \u001b[0;34m=\u001b[0m\u001b[0mDiscriminator\u001b[0m\u001b[0;34m(\u001b[0m\u001b[0;34m)\u001b[0m\u001b[0;34m\u001b[0m\u001b[0;34m\u001b[0m\u001b[0m\n\u001b[1;32m     10\u001b[0m         \u001b[0;31m#Random noise to test the image laters\u001b[0m\u001b[0;34m\u001b[0m\u001b[0;34m\u001b[0m\u001b[0m\n\u001b[0;32m---> 11\u001b[0;31m         \u001b[0mself\u001b[0m\u001b[0;34m.\u001b[0m\u001b[0mvalidation_z\u001b[0m \u001b[0;34m=\u001b[0m \u001b[0mtorch\u001b[0m\u001b[0;34m.\u001b[0m\u001b[0mrandn\u001b[0m\u001b[0;34m(\u001b[0m\u001b[0;36m20\u001b[0m\u001b[0;34m,\u001b[0m\u001b[0mself\u001b[0m\u001b[0;34m.\u001b[0m\u001b[0mlatent_dim\u001b[0m\u001b[0;34m,\u001b[0m \u001b[0mdevice\u001b[0m\u001b[0;34m=\u001b[0m\u001b[0mdevice\u001b[0m\u001b[0;34m,\u001b[0m \u001b[0mdtype\u001b[0m\u001b[0;34m=\u001b[0m\u001b[0mdtype\u001b[0m\u001b[0;34m)\u001b[0m\u001b[0;34m\u001b[0m\u001b[0;34m\u001b[0m\u001b[0m\n\u001b[0m\u001b[1;32m     12\u001b[0m \u001b[0;34m\u001b[0m\u001b[0m\n\u001b[1;32m     13\u001b[0m       \u001b[0;32mdef\u001b[0m \u001b[0mforward\u001b[0m\u001b[0;34m(\u001b[0m\u001b[0mself\u001b[0m \u001b[0;34m,\u001b[0m \u001b[0mz\u001b[0m\u001b[0;34m)\u001b[0m \u001b[0;34m:\u001b[0m\u001b[0;34m\u001b[0m\u001b[0;34m\u001b[0m\u001b[0m\n",
            "\u001b[0;31mNameError\u001b[0m: name 'dtype' is not defined"
          ]
        }
      ]
    },
    {
      "cell_type": "code",
      "source": [
        "EPOCHS = 100\n",
        "\n",
        "opt_g = torch.optim.Adam(self.generator.parameters(), lr=lr)\n",
        "opt_d = torch.optim.Adam(self.discriminator.parameters(), lr=lr)\n",
        "train_module(model, optimizer, epochs=EPOCHS)"
      ],
      "metadata": {
        "id": "P1B3_GsVZhU7"
      },
      "execution_count": null,
      "outputs": []
    }
  ]
}